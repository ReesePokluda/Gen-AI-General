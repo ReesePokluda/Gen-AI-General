{
 "cells": [
  {
   "cell_type": "markdown",
   "metadata": {
    "cell_id": "deb03a02e9274df6812b2c54da3910d8",
    "deepnote_cell_type": "markdown"
   },
   "source": [
    "### Lab 6"
   ]
  },
  {
   "cell_type": "markdown",
   "metadata": {},
   "source": [
    "Read the Lab 6 Word doc, complete your work in this notebook, answer the questions in the Word document, then upload both this file and the completed Word doc to the D2L link."
   ]
  },
  {
   "cell_type": "code",
   "execution_count": null,
   "metadata": {},
   "outputs": [],
   "source": [
    "# Cell 1\n",
    "import os\n",
    "from dotenv import load_dotenv\n",
    "from openai import OpenAI"
   ]
  },
  {
   "cell_type": "code",
   "execution_count": null,
   "metadata": {},
   "outputs": [],
   "source": [
    "# Cell 2\n",
    "openai_model = 'gpt-4o-mini' \n",
    "load_dotenv()  \n",
    "api_key = os.getenv('OPENAI_API_KEY')\n",
    "client = OpenAI(api_key = api_key) "
   ]
  },
  {
   "cell_type": "code",
   "execution_count": null,
   "metadata": {},
   "outputs": [],
   "source": [
    "# Cell 3\n",
    "user_content = \"Your prompt here\"\n",
    "system_content = \"Your other prompt here\"\n",
    "temperature = 0"
   ]
  },
  {
   "cell_type": "code",
   "execution_count": null,
   "metadata": {
    "cell_id": "3d7288bdcfbd44f38073a9719a6e24b1",
    "deepnote_cell_type": "code",
    "deepnote_to_be_reexecuted": false,
    "execution_millis": 3513,
    "execution_start": 1712784520750,
    "source_hash": null
   },
   "outputs": [
    {
     "name": "stdout",
     "output_type": "stream",
     "text": [
      "It seems like you might be looking for assistance with prompts or ideas. How can I help you today? If you have a specific topic or type of prompt in mind, please let me know!\n"
     ]
    }
   ],
   "source": [
    "# Cell 4\n",
    "message = [{\"role\": \"user\", \"content\": user_content}, \n",
    "           {\"role\": \"system\", \"content\": system_content},]\n",
    "\n",
    "chat_completion = client.chat.completions.create(\n",
    "    messages=message,\n",
    "    temperature=temperature,\n",
    "    model=openai_model\n",
    ")\n",
    "\n",
    "print(chat_completion.choices[0].message.content)"
   ]
  }
 ],
 "metadata": {
  "deepnote_notebook_id": "155ad27a1d354feea5f67aa61d5a574f",
  "kernelspec": {
   "display_name": "Python 3",
   "language": "python",
   "name": "python3"
  },
  "language_info": {
   "codemirror_mode": {
    "name": "ipython",
    "version": 3
   },
   "file_extension": ".py",
   "mimetype": "text/x-python",
   "name": "python",
   "nbconvert_exporter": "python",
   "pygments_lexer": "ipython3",
   "version": "3.12.1"
  }
 },
 "nbformat": 4,
 "nbformat_minor": 0
}
